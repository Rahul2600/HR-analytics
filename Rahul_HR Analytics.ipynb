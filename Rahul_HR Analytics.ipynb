{
 "cells": [
  {
   "cell_type": "code",
   "execution_count": 4,
   "id": "bbf63f94",
   "metadata": {},
   "outputs": [],
   "source": [
    "#import required libraries\n",
    "import pandas as pd\n"
   ]
  },
  {
   "cell_type": "code",
   "execution_count": 5,
   "id": "00806925",
   "metadata": {
    "scrolled": true
   },
   "outputs": [
    {
     "data": {
      "text/html": [
       "<div>\n",
       "<style scoped>\n",
       "    .dataframe tbody tr th:only-of-type {\n",
       "        vertical-align: middle;\n",
       "    }\n",
       "\n",
       "    .dataframe tbody tr th {\n",
       "        vertical-align: top;\n",
       "    }\n",
       "\n",
       "    .dataframe thead th {\n",
       "        text-align: right;\n",
       "    }\n",
       "</style>\n",
       "<table border=\"1\" class=\"dataframe\">\n",
       "  <thead>\n",
       "    <tr style=\"text-align: right;\">\n",
       "      <th></th>\n",
       "      <th>attrition</th>\n",
       "      <th>performance_rating</th>\n",
       "      <th>sales_quota_pct</th>\n",
       "      <th>recruiting_source</th>\n",
       "    </tr>\n",
       "  </thead>\n",
       "  <tbody>\n",
       "    <tr>\n",
       "      <th>0</th>\n",
       "      <td>1</td>\n",
       "      <td>3</td>\n",
       "      <td>1.088190</td>\n",
       "      <td>Applied Online</td>\n",
       "    </tr>\n",
       "    <tr>\n",
       "      <th>1</th>\n",
       "      <td>0</td>\n",
       "      <td>3</td>\n",
       "      <td>2.394173</td>\n",
       "      <td>NaN</td>\n",
       "    </tr>\n",
       "    <tr>\n",
       "      <th>2</th>\n",
       "      <td>1</td>\n",
       "      <td>2</td>\n",
       "      <td>0.497530</td>\n",
       "      <td>Campus</td>\n",
       "    </tr>\n",
       "    <tr>\n",
       "      <th>3</th>\n",
       "      <td>0</td>\n",
       "      <td>2</td>\n",
       "      <td>2.513958</td>\n",
       "      <td>NaN</td>\n",
       "    </tr>\n",
       "    <tr>\n",
       "      <th>4</th>\n",
       "      <td>0</td>\n",
       "      <td>3</td>\n",
       "      <td>1.424789</td>\n",
       "      <td>Applied Online</td>\n",
       "    </tr>\n",
       "    <tr>\n",
       "      <th>...</th>\n",
       "      <td>...</td>\n",
       "      <td>...</td>\n",
       "      <td>...</td>\n",
       "      <td>...</td>\n",
       "    </tr>\n",
       "    <tr>\n",
       "      <th>441</th>\n",
       "      <td>0</td>\n",
       "      <td>3</td>\n",
       "      <td>1.627813</td>\n",
       "      <td>Campus</td>\n",
       "    </tr>\n",
       "    <tr>\n",
       "      <th>442</th>\n",
       "      <td>1</td>\n",
       "      <td>4</td>\n",
       "      <td>0.689682</td>\n",
       "      <td>Referral</td>\n",
       "    </tr>\n",
       "    <tr>\n",
       "      <th>443</th>\n",
       "      <td>0</td>\n",
       "      <td>4</td>\n",
       "      <td>1.196198</td>\n",
       "      <td>NaN</td>\n",
       "    </tr>\n",
       "    <tr>\n",
       "      <th>444</th>\n",
       "      <td>0</td>\n",
       "      <td>4</td>\n",
       "      <td>1.598213</td>\n",
       "      <td>Applied Online</td>\n",
       "    </tr>\n",
       "    <tr>\n",
       "      <th>445</th>\n",
       "      <td>0</td>\n",
       "      <td>2</td>\n",
       "      <td>0.582642</td>\n",
       "      <td>NaN</td>\n",
       "    </tr>\n",
       "  </tbody>\n",
       "</table>\n",
       "<p>446 rows × 4 columns</p>\n",
       "</div>"
      ],
      "text/plain": [
       "     attrition  performance_rating  sales_quota_pct recruiting_source\n",
       "0            1                   3         1.088190    Applied Online\n",
       "1            0                   3         2.394173               NaN\n",
       "2            1                   2         0.497530            Campus\n",
       "3            0                   2         2.513958               NaN\n",
       "4            0                   3         1.424789    Applied Online\n",
       "..         ...                 ...              ...               ...\n",
       "441          0                   3         1.627813            Campus\n",
       "442          1                   4         0.689682          Referral\n",
       "443          0                   4         1.196198               NaN\n",
       "444          0                   4         1.598213    Applied Online\n",
       "445          0                   2         0.582642               NaN\n",
       "\n",
       "[446 rows x 4 columns]"
      ]
     },
     "execution_count": 5,
     "metadata": {},
     "output_type": "execute_result"
    }
   ],
   "source": [
    "#load the data\n",
    "df = pd.read_csv('Recruitment_Data.csv')\n",
    "df"
   ]
  },
  {
   "cell_type": "code",
   "execution_count": 6,
   "id": "4d05599c",
   "metadata": {},
   "outputs": [
    {
     "data": {
      "text/html": [
       "<div>\n",
       "<style scoped>\n",
       "    .dataframe tbody tr th:only-of-type {\n",
       "        vertical-align: middle;\n",
       "    }\n",
       "\n",
       "    .dataframe tbody tr th {\n",
       "        vertical-align: top;\n",
       "    }\n",
       "\n",
       "    .dataframe thead th {\n",
       "        text-align: right;\n",
       "    }\n",
       "</style>\n",
       "<table border=\"1\" class=\"dataframe\">\n",
       "  <thead>\n",
       "    <tr style=\"text-align: right;\">\n",
       "      <th></th>\n",
       "      <th>attrition</th>\n",
       "      <th>performance_rating</th>\n",
       "      <th>sales_quota_pct</th>\n",
       "      <th>recruiting_source</th>\n",
       "    </tr>\n",
       "  </thead>\n",
       "  <tbody>\n",
       "    <tr>\n",
       "      <th>0</th>\n",
       "      <td>1</td>\n",
       "      <td>3</td>\n",
       "      <td>1.088190</td>\n",
       "      <td>Applied Online</td>\n",
       "    </tr>\n",
       "    <tr>\n",
       "      <th>1</th>\n",
       "      <td>0</td>\n",
       "      <td>3</td>\n",
       "      <td>2.394173</td>\n",
       "      <td>NaN</td>\n",
       "    </tr>\n",
       "    <tr>\n",
       "      <th>2</th>\n",
       "      <td>1</td>\n",
       "      <td>2</td>\n",
       "      <td>0.497530</td>\n",
       "      <td>Campus</td>\n",
       "    </tr>\n",
       "    <tr>\n",
       "      <th>3</th>\n",
       "      <td>0</td>\n",
       "      <td>2</td>\n",
       "      <td>2.513958</td>\n",
       "      <td>NaN</td>\n",
       "    </tr>\n",
       "    <tr>\n",
       "      <th>4</th>\n",
       "      <td>0</td>\n",
       "      <td>3</td>\n",
       "      <td>1.424789</td>\n",
       "      <td>Applied Online</td>\n",
       "    </tr>\n",
       "  </tbody>\n",
       "</table>\n",
       "</div>"
      ],
      "text/plain": [
       "   attrition  performance_rating  sales_quota_pct recruiting_source\n",
       "0          1                   3         1.088190    Applied Online\n",
       "1          0                   3         2.394173               NaN\n",
       "2          1                   2         0.497530            Campus\n",
       "3          0                   2         2.513958               NaN\n",
       "4          0                   3         1.424789    Applied Online"
      ]
     },
     "execution_count": 6,
     "metadata": {},
     "output_type": "execute_result"
    }
   ],
   "source": [
    "df.head()"
   ]
  },
  {
   "cell_type": "code",
   "execution_count": 7,
   "id": "1896a992",
   "metadata": {},
   "outputs": [
    {
     "data": {
      "text/plain": [
       "54.035874439461885"
      ]
     },
     "execution_count": 7,
     "metadata": {},
     "output_type": "execute_result"
    }
   ],
   "source": [
    "#Checking the percentage of missing values in the 'recruiting_source' column\n",
    "(df['recruiting_source'].count()/len(df))*100"
   ]
  },
  {
   "cell_type": "code",
   "execution_count": 8,
   "id": "29382ed5",
   "metadata": {},
   "outputs": [
    {
     "data": {
      "text/html": [
       "<div>\n",
       "<style scoped>\n",
       "    .dataframe tbody tr th:only-of-type {\n",
       "        vertical-align: middle;\n",
       "    }\n",
       "\n",
       "    .dataframe tbody tr th {\n",
       "        vertical-align: top;\n",
       "    }\n",
       "\n",
       "    .dataframe thead th {\n",
       "        text-align: right;\n",
       "    }\n",
       "</style>\n",
       "<table border=\"1\" class=\"dataframe\">\n",
       "  <thead>\n",
       "    <tr style=\"text-align: right;\">\n",
       "      <th></th>\n",
       "      <th>attrition</th>\n",
       "      <th>performance_rating</th>\n",
       "      <th>sales_quota_pct</th>\n",
       "      <th>recruiting_source</th>\n",
       "    </tr>\n",
       "  </thead>\n",
       "  <tbody>\n",
       "    <tr>\n",
       "      <th>0</th>\n",
       "      <td>1</td>\n",
       "      <td>3</td>\n",
       "      <td>1.088190</td>\n",
       "      <td>Applied Online</td>\n",
       "    </tr>\n",
       "    <tr>\n",
       "      <th>1</th>\n",
       "      <td>0</td>\n",
       "      <td>3</td>\n",
       "      <td>2.394173</td>\n",
       "      <td>NaN</td>\n",
       "    </tr>\n",
       "    <tr>\n",
       "      <th>2</th>\n",
       "      <td>1</td>\n",
       "      <td>2</td>\n",
       "      <td>0.497530</td>\n",
       "      <td>Campus</td>\n",
       "    </tr>\n",
       "    <tr>\n",
       "      <th>3</th>\n",
       "      <td>0</td>\n",
       "      <td>2</td>\n",
       "      <td>2.513958</td>\n",
       "      <td>NaN</td>\n",
       "    </tr>\n",
       "    <tr>\n",
       "      <th>4</th>\n",
       "      <td>0</td>\n",
       "      <td>3</td>\n",
       "      <td>1.424789</td>\n",
       "      <td>Applied Online</td>\n",
       "    </tr>\n",
       "    <tr>\n",
       "      <th>...</th>\n",
       "      <td>...</td>\n",
       "      <td>...</td>\n",
       "      <td>...</td>\n",
       "      <td>...</td>\n",
       "    </tr>\n",
       "    <tr>\n",
       "      <th>441</th>\n",
       "      <td>0</td>\n",
       "      <td>3</td>\n",
       "      <td>1.627813</td>\n",
       "      <td>Campus</td>\n",
       "    </tr>\n",
       "    <tr>\n",
       "      <th>442</th>\n",
       "      <td>1</td>\n",
       "      <td>4</td>\n",
       "      <td>0.689682</td>\n",
       "      <td>Referral</td>\n",
       "    </tr>\n",
       "    <tr>\n",
       "      <th>443</th>\n",
       "      <td>0</td>\n",
       "      <td>4</td>\n",
       "      <td>1.196198</td>\n",
       "      <td>NaN</td>\n",
       "    </tr>\n",
       "    <tr>\n",
       "      <th>444</th>\n",
       "      <td>0</td>\n",
       "      <td>4</td>\n",
       "      <td>1.598213</td>\n",
       "      <td>Applied Online</td>\n",
       "    </tr>\n",
       "    <tr>\n",
       "      <th>445</th>\n",
       "      <td>0</td>\n",
       "      <td>2</td>\n",
       "      <td>0.582642</td>\n",
       "      <td>NaN</td>\n",
       "    </tr>\n",
       "  </tbody>\n",
       "</table>\n",
       "<p>446 rows × 4 columns</p>\n",
       "</div>"
      ],
      "text/plain": [
       "     attrition  performance_rating  sales_quota_pct recruiting_source\n",
       "0            1                   3         1.088190    Applied Online\n",
       "1            0                   3         2.394173               NaN\n",
       "2            1                   2         0.497530            Campus\n",
       "3            0                   2         2.513958               NaN\n",
       "4            0                   3         1.424789    Applied Online\n",
       "..         ...                 ...              ...               ...\n",
       "441          0                   3         1.627813            Campus\n",
       "442          1                   4         0.689682          Referral\n",
       "443          0                   4         1.196198               NaN\n",
       "444          0                   4         1.598213    Applied Online\n",
       "445          0                   2         0.582642               NaN\n",
       "\n",
       "[446 rows x 4 columns]"
      ]
     },
     "execution_count": 8,
     "metadata": {},
     "output_type": "execute_result"
    }
   ],
   "source": [
    "df.drop(columns='performance_rating')\n",
    "df"
   ]
  },
  {
   "cell_type": "code",
   "execution_count": 9,
   "id": "8834df6e",
   "metadata": {},
   "outputs": [
    {
     "name": "stdout",
     "output_type": "stream",
     "text": [
      "<class 'pandas.core.frame.DataFrame'>\n",
      "RangeIndex: 446 entries, 0 to 445\n",
      "Data columns (total 4 columns):\n",
      " #   Column              Non-Null Count  Dtype  \n",
      "---  ------              --------------  -----  \n",
      " 0   attrition           446 non-null    int64  \n",
      " 1   performance_rating  446 non-null    int64  \n",
      " 2   sales_quota_pct     446 non-null    float64\n",
      " 3   recruiting_source   241 non-null    object \n",
      "dtypes: float64(1), int64(2), object(1)\n",
      "memory usage: 14.1+ KB\n"
     ]
    }
   ],
   "source": [
    "#check for non-null values\n",
    "df.info()"
   ]
  },
  {
   "cell_type": "code",
   "execution_count": 10,
   "id": "b347c361",
   "metadata": {},
   "outputs": [],
   "source": [
    "#Treating the missing values\n",
    "mod = df['recruiting_source'].mode().values[0]\n",
    "df['recruiting_source'] = df['recruiting_source'].fillna(value=mod)"
   ]
  },
  {
   "cell_type": "code",
   "execution_count": 11,
   "id": "0f5d3371",
   "metadata": {},
   "outputs": [
    {
     "name": "stdout",
     "output_type": "stream",
     "text": [
      "<class 'pandas.core.frame.DataFrame'>\n",
      "RangeIndex: 446 entries, 0 to 445\n",
      "Data columns (total 4 columns):\n",
      " #   Column              Non-Null Count  Dtype  \n",
      "---  ------              --------------  -----  \n",
      " 0   attrition           446 non-null    int64  \n",
      " 1   performance_rating  446 non-null    int64  \n",
      " 2   sales_quota_pct     446 non-null    float64\n",
      " 3   recruiting_source   446 non-null    object \n",
      "dtypes: float64(1), int64(2), object(1)\n",
      "memory usage: 14.1+ KB\n"
     ]
    }
   ],
   "source": [
    "#check for non-null values again\n",
    "df.info()"
   ]
  },
  {
   "cell_type": "code",
   "execution_count": 12,
   "id": "3dcfca34",
   "metadata": {},
   "outputs": [
    {
     "data": {
      "text/plain": [
       "recruiting_source\n",
       "Applied Online    1.125609\n",
       "Campus            0.908035\n",
       "Referral          1.023198\n",
       "Search Firm       0.886960\n",
       "Name: sales_quota_pct, dtype: float64"
      ]
     },
     "execution_count": 12,
     "metadata": {},
     "output_type": "execute_result"
    }
   ],
   "source": [
    "#Print out the average Sales Number grouped by Recruiting Source\n",
    "avg_sales = df.groupby(\"recruiting_source\")[\"sales_quota_pct\"].mean()\n",
    "avg_sales"
   ]
  },
  {
   "cell_type": "code",
   "execution_count": 13,
   "id": "63bc22ac",
   "metadata": {},
   "outputs": [
    {
     "data": {
      "text/plain": [
       "recruiting_source\n",
       "Applied Online    0.176119\n",
       "Campus            0.285714\n",
       "Referral          0.333333\n",
       "Search Firm       0.500000\n",
       "Name: attrition, dtype: float64"
      ]
     },
     "execution_count": 13,
     "metadata": {},
     "output_type": "execute_result"
    }
   ],
   "source": [
    "#Print out the average Attrition Number grouped by Recruiting Source\n",
    "avg_att = df.groupby(\"recruiting_source\")[\"attrition\"].mean()\n",
    "avg_att"
   ]
  },
  {
   "cell_type": "code",
   "execution_count": 14,
   "id": "e37c5610",
   "metadata": {},
   "outputs": [],
   "source": [
    "#import libraries to plot the data\n",
    "import matplotlib.pyplot as plt\n",
    "import seaborn as sns"
   ]
  },
  {
   "cell_type": "code",
   "execution_count": 43,
   "id": "f25c183c",
   "metadata": {},
   "outputs": [
    {
     "data": {
      "image/png": "[encoded data removed]",
      "text/plain": [
       "<Figure size 640x480 with 1 Axes>"
      ]
     },
     "metadata": {},
     "output_type": "display_data"
    }
   ],
   "source": [
    "# Which recruiting source resulted highest sales_quota_pct?\n",
    "salesQuotaPct = df.groupby('recruiting_source')[['sales_quota_pct']].mean().sort_values('sales_quota_pct')\n",
    "salesQuotaPct.plot(kind ='bar')\n",
    "plt.ylabel('Sales quota retainment (%)')\n",
    "plt.show()"
   ]
  },
  {
   "cell_type": "code",
   "execution_count": 16,
   "id": "a3105d4a",
   "metadata": {},
   "outputs": [
    {
     "data": {
      "image/png": "[encoded data removed]",
      "text/plain": [
       "<Figure size 640x480 with 1 Axes>"
      ]
     },
     "metadata": {},
     "output_type": "display_data"
    }
   ],
   "source": [
    "#Another quality of hire metric you can consider is the attrition rate, or how often hires leave the company.\n",
    "\n",
    "\n",
    "# att_rate = hr_df.groupby('recruiting_source')[['attrition']].sum().sort_values('attrition')\n",
    "att_df = df.groupby('recruiting_source')[['attrition']].sum()\n",
    "att_df['head count'] = df.groupby('recruiting_source')[['attrition']].count()\n",
    "# x = pd.DataFrame(att_df['attrition']/att_df['head count'])\n",
    "# x\n",
    "att_df['attrition rate'] = att_df['attrition']/att_df['head count']\n",
    "att_df.sort_values('attrition rate', ascending=True)\n",
    "att_df[['attrition rate']].plot(kind='bar')\n",
    "plt.ylabel('Attrition rate (%)')\n",
    "plt.show()\n"
   ]
  },
  {
   "cell_type": "code",
   "execution_count": 17,
   "id": "b360684a",
   "metadata": {},
   "outputs": [
    {
     "data": {
      "image/png": "[encoded data removed]",
      "text/plain": [
       "<Figure size 640x480 with 1 Axes>"
      ]
     },
     "metadata": {},
     "output_type": "display_data"
    }
   ],
   "source": [
    "#Which recruiting source resulted in highest perfromance rating?\n",
    "perf = df.groupby('recruiting_source')[['performance_rating']].mean().sort_values('performance_rating')\n",
    "perf.plot(kind ='bar')\n",
    "plt.ylabel('Perfromance rating')\n",
    "plt.show()"
   ]
  },
  {
   "cell_type": "markdown",
   "id": "6f94a6d4",
   "metadata": {},
   "source": [
    "# Conclusion\n",
    "## Which of the recruiting sources in this dataset produced the best hires, measured by attrition and sales? Which source produced the worst hires?\n",
    "\n",
    "Best: Applied Online, Worst: Search Firm"
   ]
  },
  {
   "cell_type": "code",
   "execution_count": 18,
   "id": "d05851af",
   "metadata": {},
   "outputs": [
    {
     "data": {
      "text/plain": [
       "recruiting_source\n",
       "Applied Online    0.176119\n",
       "Campus            0.285714\n",
       "Referral          0.333333\n",
       "Search Firm       0.500000\n",
       "Name: attrition rate, dtype: float64"
      ]
     },
     "execution_count": 18,
     "metadata": {},
     "output_type": "execute_result"
    }
   ],
   "source": [
    "att_df['attrition rate']"
   ]
  },
  {
   "cell_type": "code",
   "execution_count": 19,
   "id": "280122f6",
   "metadata": {},
   "outputs": [
    {
     "name": "stdout",
     "output_type": "stream",
     "text": [
      "Requirement already satisfied: plotnine in c:\\users\\shrut\\anaconda3\\lib\\site-packages (0.13.6)\n",
      "Requirement already satisfied: matplotlib>=3.7.0 in c:\\users\\shrut\\anaconda3\\lib\\site-packages (from plotnine) (3.8.0)\n",
      "Requirement already satisfied: pandas<3.0.0,>=2.1.0 in c:\\users\\shrut\\anaconda3\\lib\\site-packages (from plotnine) (2.1.4)\n",
      "Requirement already satisfied: mizani~=0.11.0 in c:\\users\\shrut\\anaconda3\\lib\\site-packages (from plotnine) (0.11.4)\n",
      "Requirement already satisfied: numpy>=1.23.0 in c:\\users\\shrut\\anaconda3\\lib\\site-packages (from plotnine) (1.26.4)\n",
      "Requirement already satisfied: scipy>=1.7.0 in c:\\users\\shrut\\anaconda3\\lib\\site-packages (from plotnine) (1.11.4)\n",
      "Requirement already satisfied: statsmodels>=0.14.0 in c:\\users\\shrut\\anaconda3\\lib\\site-packages (from plotnine) (0.14.0)\n",
      "Requirement already satisfied: contourpy>=1.0.1 in c:\\users\\shrut\\anaconda3\\lib\\site-packages (from matplotlib>=3.7.0->plotnine) (1.2.0)\n",
      "Requirement already satisfied: cycler>=0.10 in c:\\users\\shrut\\anaconda3\\lib\\site-packages (from matplotlib>=3.7.0->plotnine) (0.11.0)\n",
      "Requirement already satisfied: fonttools>=4.22.0 in c:\\users\\shrut\\anaconda3\\lib\\site-packages (from matplotlib>=3.7.0->plotnine) (4.25.0)\n",
      "Requirement already satisfied: kiwisolver>=1.0.1 in c:\\users\\shrut\\anaconda3\\lib\\site-packages (from matplotlib>=3.7.0->plotnine) (1.4.4)\n",
      "Requirement already satisfied: packaging>=20.0 in c:\\users\\shrut\\anaconda3\\lib\\site-packages (from matplotlib>=3.7.0->plotnine) (23.1)\n",
      "Requirement already satisfied: pillow>=6.2.0 in c:\\users\\shrut\\anaconda3\\lib\\site-packages (from matplotlib>=3.7.0->plotnine) (10.2.0)\n",
      "Requirement already satisfied: pyparsing>=2.3.1 in c:\\users\\shrut\\anaconda3\\lib\\site-packages (from matplotlib>=3.7.0->plotnine) (3.0.9)\n",
      "Requirement already satisfied: python-dateutil>=2.7 in c:\\users\\shrut\\anaconda3\\lib\\site-packages (from matplotlib>=3.7.0->plotnine) (2.8.2)\n",
      "Requirement already satisfied: tzdata in c:\\users\\shrut\\anaconda3\\lib\\site-packages (from mizani~=0.11.0->plotnine) (2023.3)\n",
      "Requirement already satisfied: pytz>=2020.1 in c:\\users\\shrut\\anaconda3\\lib\\site-packages (from pandas<3.0.0,>=2.1.0->plotnine) (2023.3.post1)\n",
      "Requirement already satisfied: patsy>=0.5.2 in c:\\users\\shrut\\anaconda3\\lib\\site-packages (from statsmodels>=0.14.0->plotnine) (0.5.3)\n",
      "Requirement already satisfied: six in c:\\users\\shrut\\anaconda3\\lib\\site-packages (from patsy>=0.5.2->statsmodels>=0.14.0->plotnine) (1.16.0)\n",
      "Note: you may need to restart the kernel to use updated packages.\n"
     ]
    }
   ],
   "source": [
    "pip install plotnine"
   ]
  },
  {
   "cell_type": "code",
   "execution_count": 49,
   "id": "e0810756-effe-4431-94ca-fe016f7eb285",
   "metadata": {},
   "outputs": [],
   "source": [
    "df['sales'] = df['sales_quota_pct'].mean()"
   ]
  },
  {
   "cell_type": "code",
   "execution_count": 35,
   "id": "2a5e934c-6c2b-486b-9bbe-15238a61b2a6",
   "metadata": {},
   "outputs": [],
   "source": [
    "from plotnine import ggplot , aes , geom_bar"
   ]
  },
  {
   "cell_type": "code",
   "execution_count": 55,
   "id": "cfaba9d2-16ff-42b4-95f5-a017a61484c4",
   "metadata": {},
   "outputs": [
    {
     "data": {
      "image/png": "[encoded data removed]"
     },
     "metadata": {
      "image/png": {
       "height": 480,
       "width": 640
      }
     },
     "output_type": "display_data"
    }
   ],
   "source": [
    "ggplot(df) + aes(x = 'recruiting_source') + geom_bar()"
   ]
  },
  {
   "cell_type": "code",
   "execution_count": null,
   "id": "a706c34d-ba8b-4156-a1b5-7dc8a1210029",
   "metadata": {},
   "outputs": [],
   "source": []
  },
  {
   "cell_type": "code",
   "execution_count": null,
   "id": "5299d2f3-fb37-4ca9-b4b5-5736c52db73e",
   "metadata": {},
   "outputs": [],
   "source": []
  },
  {
   "cell_type": "code",
   "execution_count": null,
   "id": "0faee2c4-cf71-496f-9d96-d24413305935",
   "metadata": {},
   "outputs": [],
   "source": []
  }
 ],
 "metadata": {
  "kernelspec": {
   "display_name": "Python 3 (ipykernel)",
   "language": "python",
   "name": "python3"
  },
  "language_info": {
   "codemirror_mode": {
    "name": "ipython",
    "version": 3
   },
   "file_extension": ".py",
   "mimetype": "text/x-python",
   "name": "python",
   "nbconvert_exporter": "python",
   "pygments_lexer": "ipython3",
   "version": "3.11.7"
  }
 },
 "nbformat": 4,
 "nbformat_minor": 5
}
